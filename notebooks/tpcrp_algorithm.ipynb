{
 "cells": [
  {
   "cell_type": "markdown",
   "metadata": {},
   "source": [
    "# TPCRP Algorithm Implementation"
   ]
  },
  {
   "cell_type": "code",
   "execution_count": 26,
   "metadata": {},
   "outputs": [],
   "source": [
    "import torch\n",
    "import torchvision\n",
    "import numpy as np\n",
    "import matplotlib.pyplot as plt\n",
    "from sklearn.cluster import KMeans\n",
    "from torchvision import transforms, datasets, models\n",
    "from torch.utils.data import DataLoader\n",
    "from scipy.spatial.distance import cdist"
   ]
  },
  {
   "cell_type": "markdown",
   "metadata": {},
   "source": [
    "# Feature Extraction"
   ]
  },
  {
   "cell_type": "code",
   "execution_count": 27,
   "metadata": {},
   "outputs": [],
   "source": [
    "transform = transforms.Compose([\n",
    "    transforms.ToTensor(),\n",
    "    transforms.Normalize(mean=[0.485, 0.456, 0.406], std=[0.229, 0.224, 0.225])\n",
    "])\n",
    "\n",
    "train_dataset = datasets.CIFAR10(root='./data', train=True, download=True, transform=transform)\n",
    "train_loader = DataLoader(train_dataset, batch_size=1000, shuffle=True)"
   ]
  },
  {
   "cell_type": "markdown",
   "metadata": {},
   "source": [
    "Use the pre-trained **ResNet18** model to extract feature embeddings."
   ]
  },
  {
   "cell_type": "code",
   "execution_count": 28,
   "metadata": {},
   "outputs": [
    {
     "name": "stderr",
     "output_type": "stream",
     "text": [
      "/home/mateo/ML-coursework2/.venv/lib/python3.12/site-packages/torchvision/models/_utils.py:208: UserWarning: The parameter 'pretrained' is deprecated since 0.13 and may be removed in the future, please use 'weights' instead.\n",
      "  warnings.warn(\n",
      "/home/mateo/ML-coursework2/.venv/lib/python3.12/site-packages/torchvision/models/_utils.py:223: UserWarning: Arguments other than a weight enum or `None` for 'weights' are deprecated since 0.13 and may be removed in the future. The current behavior is equivalent to passing `weights=ResNet18_Weights.IMAGENET1K_V1`. You can also use `weights=ResNet18_Weights.DEFAULT` to get the most up-to-date weights.\n",
      "  warnings.warn(msg)\n"
     ]
    }
   ],
   "source": [
    "device = torch.device(\"cuda\" if torch.cuda.is_available() else \"cpu\")\n",
    "model = models.resnet18(pretrained=True)\n",
    "model.fc = torch.nn.Identity()  # Remove classification layer\n",
    "\n",
    "# Move model to GPU before setting to eval mode\n",
    "model.to(device)\n",
    "model.eval()  \n",
    "\n",
    "def extract_features(data_loader, model, device=\"cuda\"):\n",
    "    model.to(device)\n",
    "    model.eval()\n",
    "    features = []\n",
    "    \n",
    "    with torch.no_grad():\n",
    "        for images, _ in data_loader:\n",
    "            images = images.to(device)  # Move images to GPU\n",
    "            output = model(images)\n",
    "            features.append(output.cpu().numpy())  # Move back to CPU for clustering\n",
    "            \n",
    "    return np.vstack(features)\n",
    "\n",
    "features = extract_features(train_loader, model)"
   ]
  },
  {
   "cell_type": "markdown",
   "metadata": {},
   "source": [
    "# K-Means Clustering"
   ]
  },
  {
   "cell_type": "code",
   "execution_count": 29,
   "metadata": {},
   "outputs": [],
   "source": [
    "L_size = 50   # Number of already labeled examples (|L|)\n",
    "B = 20        # Budget (New samples to be labeled)\n",
    "num_clusters = L_size + B\n",
    "\n",
    "\n",
    "# K-Means Clustering \n",
    "kmeans = KMeans(n_clusters=num_clusters, random_state=42)\n",
    "labels = kmeans.fit_predict(features)"
   ]
  },
  {
   "cell_type": "markdown",
   "metadata": {},
   "source": [
    "# Selecting Typical Examples"
   ]
  },
  {
   "cell_type": "code",
   "execution_count": 30,
   "metadata": {},
   "outputs": [
    {
     "name": "stdout",
     "output_type": "stream",
     "text": [
      "Selected sample indices: [np.int64(35665), np.int64(34517), np.int64(14663), np.int64(38991), np.int64(16332), np.int64(35724), np.int64(24647), np.int64(19189), np.int64(33553), np.int64(29722), np.int64(37660), np.int64(23740), np.int64(6056), np.int64(21751), np.int64(40581), np.int64(39294), np.int64(41818), np.int64(23419), np.int64(11367), np.int64(21951), np.int64(23609), np.int64(49020), np.int64(21778), np.int64(7637), np.int64(9299), np.int64(32720), np.int64(10579), np.int64(14496), np.int64(3940), np.int64(15734), np.int64(34036), np.int64(37304), np.int64(35761), np.int64(20793), np.int64(8484), np.int64(32447), np.int64(37505), np.int64(35406), np.int64(612), np.int64(39505), np.int64(9432), np.int64(45380), np.int64(12438), np.int64(13450), np.int64(19469), np.int64(31718), np.int64(37502), np.int64(11118), np.int64(17238), np.int64(2580), np.int64(49236), np.int64(30501), np.int64(4392), np.int64(3087), np.int64(11100), np.int64(10133), np.int64(35973), np.int64(45494), np.int64(21791), np.int64(29352), np.int64(4928), np.int64(722), np.int64(43167), np.int64(7779), np.int64(9627), np.int64(35654), np.int64(41724), np.int64(1039), np.int64(26069), np.int64(26422)]\n"
     ]
    }
   ],
   "source": [
    "def select_typical_examples(features, labels):\n",
    "    \"\"\"Compute Typicality using all points in the same cluster\"\"\"\n",
    "    selected_indices = []\n",
    "    \n",
    "    for cluster_id in np.unique(labels):\n",
    "        cluster_indices = np.where(labels == cluster_id)[0]\n",
    "        cluster_features = features[cluster_indices]\n",
    "        \n",
    "        # Compute pairwise distances within the cluster\n",
    "        distances = cdist(cluster_features, cluster_features, metric=\"euclidean\")\n",
    "        \n",
    "        # Compute Typicality: (1 / Mean Distance to All Other Points in Cluster)\n",
    "        typicality_scores = np.reciprocal(np.mean(distances, axis=1))\n",
    "        \n",
    "        # Select the most typical sample (highest typicality score)\n",
    "        best_index = cluster_indices[np.argmax(typicality_scores)]\n",
    "        selected_indices.append(best_index)\n",
    "    \n",
    "    return selected_indices\n",
    "\n",
    "selected_samples = select_typical_examples(features, labels)\n",
    "print(\"Selected sample indices:\", selected_samples)"
   ]
  },
  {
   "cell_type": "markdown",
   "metadata": {},
   "source": [
    "# Visualisation"
   ]
  },
  {
   "cell_type": "code",
   "execution_count": 40,
   "metadata": {},
   "outputs": [
    {
     "data": {
      "image/png": "[encoded data removed]",
      "text/plain": [
       "<Figure size 1500x300 with 5 Axes>"
      ]
     },
     "metadata": {},
     "output_type": "display_data"
    }
   ],
   "source": [
    "def show_images(dataset, indices, mean=(0.485, 0.456, 0.406), std=(0.229, 0.224, 0.225)):\n",
    "    \"\"\"Show images after denormalization\"\"\"\n",
    "    fig, axes = plt.subplots(1, len(indices), figsize=(15, 3))\n",
    "    for ax, idx in zip(axes, indices):\n",
    "        image, _ = dataset[idx]\n",
    "        image = image.numpy().transpose(1, 2, 0)  # Convert (C, H, W) to (H, W, C)\n",
    "        image = image * std + mean  # De-normalize\n",
    "        image = np.clip(image, 0, 1)\n",
    "        ax.imshow(image)\n",
    "        ax.axis('off')\n",
    "    plt.show()\n",
    "\n",
    "show_images(train_dataset, selected_samples[:5])"
   ]
  },
  {
   "cell_type": "code",
   "execution_count": null,
   "metadata": {},
   "outputs": [],
   "source": []
  }
 ],
 "metadata": {
  "kernelspec": {
   "display_name": ".venv",
   "language": "python",
   "name": "python3"
  },
  "language_info": {
   "codemirror_mode": {
    "name": "ipython",
    "version": 3
   },
   "file_extension": ".py",
   "mimetype": "text/x-python",
   "name": "python",
   "nbconvert_exporter": "python",
   "pygments_lexer": "ipython3",
   "version": "3.12.3"
  }
 },
 "nbformat": 4,
 "nbformat_minor": 2
}
